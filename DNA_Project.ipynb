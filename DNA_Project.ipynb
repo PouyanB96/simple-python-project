{
 "cells": [
  {
   "cell_type": "markdown",
   "id": "8f1c967d-7e6d-4bcd-8fe3-08f918a0aec4",
   "metadata": {},
   "source": [
    "یک رشته‌ی DNA از کاربر بگیر و تعداد هر نوکلئوتید (A, T, G, C) رو محاسبه کن."
   ]
  },
  {
   "cell_type": "code",
   "execution_count": 57,
   "id": "9b7e0155-d51e-4f87-977b-c05e8e63d5d0",
   "metadata": {},
   "outputs": [
    {
     "name": "stdin",
     "output_type": "stream",
     "text": [
      "insert the DNA sequance: gctagcatagactacgactacgactacgactacgactacgactcgagagactcgagatcgactacgactatatagcgcgatagcgactggggggggggggggccccccccccccccccc\n"
     ]
    },
    {
     "name": "stdout",
     "output_type": "stream",
     "text": [
      " G :34 , A:28 T:16 C:41\n",
      "GC Percentage is 63.03%\n"
     ]
    }
   ],
   "source": [
    "dnaseq = input('insert the DNA sequance:')\n",
    "dnaseq = dnaseq.upper()\n",
    "dnaseq = list (dnaseq)\n",
    "G = 0\n",
    "A = 0\n",
    "T = 0\n",
    "C = 0\n",
    "for i in dnaseq :\n",
    "    if i == 'G':\n",
    "        G +=1\n",
    "        \n",
    "    elif i == 'T':\n",
    "        T +=1\n",
    "    elif i == 'C':\n",
    "        C +=1\n",
    "    elif i == 'A':\n",
    "        A +=1\n",
    "    else : \n",
    "        print ('DNA sequence is not true')\n",
    "        break\n",
    "print (f' G :{G} , A:{A} T:{T} C:{C}')\n",
    "gc_count = G + C\n",
    "gc_Percentage = (gc_count / (G+C+T+A)) *100\n",
    "print (f'GC Percentage is {gc_Percentage:.2f}%')"
   ]
  }
 ],
 "metadata": {
  "kernelspec": {
   "display_name": "Python 3 (ipykernel)",
   "language": "python",
   "name": "python3"
  },
  "language_info": {
   "codemirror_mode": {
    "name": "ipython",
    "version": 3
   },
   "file_extension": ".py",
   "mimetype": "text/x-python",
   "name": "python",
   "nbconvert_exporter": "python",
   "pygments_lexer": "ipython3",
   "version": "3.12.7"
  }
 },
 "nbformat": 4,
 "nbformat_minor": 5
}
